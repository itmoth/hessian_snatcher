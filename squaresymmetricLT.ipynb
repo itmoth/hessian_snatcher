{
 "cells": [
  {
   "cell_type": "code",
   "execution_count": null,
   "metadata": {},
   "outputs": [],
   "source": [
    "import os"
   ]
  },
  {
   "cell_type": "code",
   "execution_count": null,
   "metadata": {},
   "outputs": [],
   "source": [
    "# replace the join function's argument with your output file name\n",
    "reactant_file = os.path.join('conformerTwoFreq.log') \n",
    "with open(reactant_file, \"r\") as reactantfile:\n",
    "    reactant = reactantfile.readlines()\n",
    "\n",
    "# Replace with the amount of atoms in your molecule\n",
    "atom_number = 16 \n",
    "\n",
    "hessian_size = atom_number*3"
   ]
  },
  {
   "cell_type": "code",
   "execution_count": null,
   "metadata": {},
   "outputs": [
    {
     "data": {
      "text/plain": [
       "\"\\nfor row_index, row in enumerate(hessian, start= 0):\\n    print(' '.join(hessian[row_index])) \\n\""
      ]
     },
     "execution_count": 25,
     "metadata": {},
     "output_type": "execute_result"
    }
   ],
   "source": [
    "hessian_start_line = 0\n",
    "hessian_end_line = 0\n",
    "\n",
    "\n",
    "# Searches for when the section of the output file where the Hessian is\n",
    "for line_number, line in enumerate(reactant, start = 1):\n",
    "    if 'Hessian after L703:' in line:\n",
    "        hessian_start_line = line_number\n",
    "\n",
    "\n",
    "# Determine the ending line of the Hessian section in the output\n",
    "hessian_size_counter = hessian_size\n",
    "hessian_section_length = 0\n",
    "hessian_column_counter = 0\n",
    "while(hessian_size_counter >= 0):\n",
    "    hessian_section_length += hessian_size_counter\n",
    "    hessian_size_counter -=5\n",
    "hessian_end_line = hessian_start_line + hessian_section_length + math.ceil(hessian_size/5)\n",
    "\n",
    "\n",
    "# Identify all the line breaks, and create a hessian \n",
    "hessian = []\n",
    "line_breaks = []\n",
    "for line_number, line in enumerate(reactant, start = 1):\n",
    "\n",
    "    if line_number > hessian_start_line + 1:\n",
    "        current_line = line.split()\n",
    "\n",
    "        # This condition will determine the line number of all the lines that just have the column indices\n",
    "        if (all(len(s) < 4 for s in current_line)):\n",
    "            line_breaks.append(line_number)\n",
    "\n",
    "    if line_number == hessian_end_line:\n",
    "        break\n",
    "\n",
    "\n",
    "# Continue through for the rest of the hessian section of the output file. \n",
    "for line_number, line in enumerate(reactant, start = 1):\n",
    "    if line_number > hessian_start_line + 1:\n",
    "        current_line = line.split()\n",
    "\n",
    "        # Start the matrix by first establishing the rows we will have, which will be the amount of lines before the first line break.\n",
    "        if line_number < line_breaks[0]:\n",
    "            hessian.append(current_line)\n",
    "\n",
    "        # Continue going through the Hessian section of the output file, and don't count the line breaks\n",
    "        if line_number > line_breaks[0] and line_number not in line_breaks:\n",
    "            for element in hessian:\n",
    "                # If the indexes of the rows match, then append. \n",
    "                if current_line[0] == element[0]:\n",
    "                    for item in current_line:\n",
    "                        # This just works lol #idk\n",
    "                        if len(item) > 3:\n",
    "                            hessian[int(element[0])-1].append(item)\n",
    "\n",
    "    # Stop the loop when we reach the end of the Hessian section\n",
    "    if line_number == hessian_end_line:\n",
    "        break\n",
    "\n",
    "\n",
    "# Remove all the row indexes, which are the first element of the rows\n",
    "for item in hessian:\n",
    "    item.pop(0)\n",
    "\n",
    "\n",
    "# Uncomment this loop if you want to print out the square symmetric matrix!\n",
    "\"\"\"\n",
    "for row_index, row in enumerate(hessian, start= 0):\n",
    "    print(' '.join(hessian[row_index])) \n",
    "\"\"\""
   ]
  },
  {
   "cell_type": "code",
   "execution_count": 26,
   "metadata": {},
   "outputs": [],
   "source": [
    "# Writes the square symmetric lower triangular matrix to a file named 'square_symmetric_LT.txt'\n",
    "with open('square_symmetric_LT.txt', 'w') as f:\n",
    "    for row in hessian:\n",
    "        f.write(' '.join(str(item) for item in row) + '\\n')"
   ]
  }
 ],
 "metadata": {
  "kernelspec": {
   "display_name": "base",
   "language": "python",
   "name": "python3"
  },
  "language_info": {
   "codemirror_mode": {
    "name": "ipython",
    "version": 3
   },
   "file_extension": ".py",
   "mimetype": "text/x-python",
   "name": "python",
   "nbconvert_exporter": "python",
   "pygments_lexer": "ipython3",
   "version": "3.12.7"
  }
 },
 "nbformat": 4,
 "nbformat_minor": 2
}
